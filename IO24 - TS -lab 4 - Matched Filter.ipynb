{
 "cells": [
  {
   "cell_type": "markdown",
   "metadata": {},
   "source": [
    "# Labwork 4 : Estimation using the matched filter. Image registration.\n",
    "\n",
    "## Gabriel Gostiaux\n",
    "\n",
    "Questions P1 and P2 must be prepared in advance\n",
    "\n",
    "## Contents\n",
    "\n",
    "1. Global registration\n",
    "2. Registration by using a region of the image\n",
    "\n",
    "We consider an image sequence $f_{k}(x, y), k \\in[1, K], x \\in[1, M], y \\in[1, N]$, each image of the sequence being translated of $\\left(x_{k}, y_{k}\\right)$ relative to the first one, where $\\left(x_{k}, y_{k}\\right)$ is only known to be an integer number of pixels. Our goal is to register these images. We assume that these images are perturbed by $b_{k}(x, y)$, a centered Gaussian additive noise of variance equal to $\\sigma^{2}$. The signal model is thus:\n",
    "\n",
    "$$\n",
    "\\forall k>1, f_{k}(x, y)=f_{1}\\left(x-x_{k}, y-y_{k}\\right)+b_{k}(x, y)\n",
    "$$\n",
    "\n",
    "and we want to estimate all the parameters $\\left(x_{k}, y_{k}\\right)$.\n"
   ]
  },
  {
   "cell_type": "markdown",
   "metadata": {},
   "source": [
    "\n",
    "## 1 Global registration\n",
    "\n",
    "P1 Is the solution given by the matched filter optimal here?\n",
    "\n",
    "P2 Propose then a registration algorithm for this sequence.\n",
    "\n",
    "$\\rightsquigarrow \\quad$ Apply it on the sequence contained in the file ShiftedImages .dat. The first image of the series will be used as the reference image.\n",
    "\n",
    "$\\rightsquigarrow \\quad$ You shall construct a sequence with the registered images to check that they are well superposed.\n",
    "\n",
    "$\\rightsquigarrow \\quad$ You shall also plot, on the same figure, the values of the estimated translations $\\hat{x}_{k}$ and $\\hat{y}_{k}$, as a function of $k$.\n",
    "\n",
    "## Useful commands/tips:\n",
    "\n",
    "```Matlab\n",
    "[I, J] = find (X>5) % returns the row and column indices of the matrix X where X is greater than 5 .\n",
    "fft2 % 2D Fourier transform of an image.\n",
    "ifft2 % 2D inverse Fourier transform of an image.\n",
    "fftshift % circular shift of an image so that the left top point becomes the central point.\n",
    "\n",
    "% To successively display images of a sequence: getframe, movie. Example :\n",
    "figure\n",
    "for $i=1: 6$\n",
    "imagesc(Images(:,:,i)), colormap(gray);\n",
    "$\\operatorname{Mp}(\\mathrm{i})=$ getframe(gcf);\n",
    "end;\n",
    "\n",
    "clf, axes('Position', [0 0 1 1]), movie(Mp,10); % where the values of the (3-dimensional) array Images vary between 0 and 1.\n",
    "```\n"
   ]
  },
  {
   "cell_type": "markdown",
   "metadata": {},
   "source": [
    "\n",
    "## 2 Registration by using a region of the image\n",
    "\n",
    "For sake of memory resources or because of time calculation, it is not always possible do compute the Fourier transform of the whole image. In this case, one has to compute the shift from a small region of the reference image. You will take a $30 \\times 30$ pixels wide region.\n",
    "\n",
    "The goal is then to choose the region of the image that leads to the highest precision for shift estimation.\n",
    "\n",
    "$\\rightsquigarrow \\quad$ Choose 5 very distinct small regions in the reference image.\n",
    "\n",
    "$\\rightsquigarrow\\quad$ Carry out the previous algorithm using these regions, and compare the results.\n",
    "\n",
    "$\\rightsquigarrow \\quad$ What kind of image features lead to accurate shift estimation?\n",
    "\n",
    "Q1 Which criterion could have been used to foresee this result?\n",
    "\n",
    "$\\rightsquigarrow \\quad$ Using this criterion, find over the whole image the best $30 \\times 30$ pixels wide region.\n",
    "\n",
    "## Useful commands/tips:\n",
    "\n",
    "```Matlab\n",
    "M=SpectralWidth2(Im); % estimate the square of the \"spectral width\" of a digital image $\\operatorname{Im}$ using fft2 algorithm. M is $2 \\times 2$ matrix.\n",
    "```\n",
    "The square of the \"spectral width\" of an image $A(x, y)$ is defined by the matrix :\n",
    "\n",
    "$$\n",
    "\\left(\\begin{array}{cc}\n",
    "\\Delta_{\\text {horiz }}^{2} & \\Delta_{\\text {diag }}^{2} \\\\\n",
    "\\Delta_{\\text {diag }}^{2} & \\Delta_{\\text {vert }}^{2}\n",
    "\\end{array}\\right)=\\left(\\begin{array}{ll}\n",
    "\\int \\sigma^{2}|\\widetilde{A}(\\sigma, \\mu)|^{2} d \\sigma d \\mu & \\int \\sigma \\mu|\\widetilde{A}(\\sigma, \\mu)|^{2} d \\sigma d \\mu \\\\\n",
    "\\int \\sigma \\mu|\\widetilde{A}(\\sigma, \\mu)|^{2} d \\sigma d \\mu & \\int \\mu^{2}|\\widetilde{A}(\\sigma, \\mu)|^{2} d \\sigma d \\mu\n",
    "\\end{array}\\right)\n",
    "$$\n",
    "\n",
    "where $\\widetilde{A}(\\sigma, \\mu)$ is the Fourier transform of $A(x, y)$."
   ]
  }
 ],
 "metadata": {
  "kernelspec": {
   "display_name": ".venv",
   "language": "python",
   "name": "python3"
  },
  "language_info": {
   "name": "python",
   "version": "3.12.6"
  }
 },
 "nbformat": 4,
 "nbformat_minor": 2
}
